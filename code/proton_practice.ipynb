{
 "cells": [
  {
   "cell_type": "code",
   "execution_count": 60,
   "metadata": {
    "collapsed": true
   },
   "outputs": [],
   "source": [
    "import pandas as pd\n",
    "import numpy as np\n",
    "import csv\n",
    "import seaborn as sns\n",
    "import matplotlib.pyplot as plt \n",
    "%matplotlib inline\n",
    "\n",
    "pd.set_option('display.max_columns', 500)\n",
    "\n",
    "\n",
    "sns.set(style=\"white\")"
   ]
  },
  {
   "cell_type": "code",
   "execution_count": 61,
   "metadata": {
    "collapsed": false
   },
   "outputs": [],
   "source": [
    "# reading the merged file. \n",
    "\n",
    "df =pd.read_csv(\"/Users/jj/PycharmProjects/little_ds_problem/src/merged.vcf\", sep=\"\\t\", index_col=0)"
   ]
  },
  {
   "cell_type": "code",
   "execution_count": 62,
   "metadata": {
    "collapsed": false
   },
   "outputs": [],
   "source": [
    "# dropping duplicated rows after merging.\n",
    "df = df.drop_duplicates()\n",
    "\n",
    "# Looking at the heat map, T_QQ, ti_NS and ti_HS is None and FILTER is always PASS. \n",
    "# tf_GT == \n",
    "\n",
    "df = df.drop([\"ti_NS\", 'ti_HS', 'T_QQ', 'FILTER', 'tf_GT', 'T_GT', 'Q_GT', 'ti_OID', 'T_BD'], axis=1)\n",
    "\n",
    "\n",
    "\n",
    "\n",
    "# Drop all rows with multiple alternate allele observations.\n",
    "\n",
    "def get_mult_alt(row):\n",
    "    if len(row.ALT.split(\",\")) > 1:\n",
    "        return 1\n",
    "    else:\n",
    "        return 0\n",
    "    \n",
    "\n",
    "df[\"mult_alt_allele\"] = df.apply(get_mult_alt, axis=1)\n",
    "\n",
    "\n",
    "# Q_BD is our Target.  Looking at this, there is only two option.  FP or TP. \n",
    "# I will make another column called target FP = 0 or FALSE, TP = 1 or TRUE.\n",
    "\n",
    "def get_target(row):\n",
    "    if row.Q_BD == 'FP':\n",
    "        return 0\n",
    "    elif row.Q_BD == 'TP':\n",
    "        return 1 \n",
    "   \n",
    "\n",
    "df[\"target\"] = df.apply(get_target, axis=1)\n",
    "\n",
    "# excluding multiple alt allele\n",
    "df = df[df.mult_alt_allele != 1]\n",
    "\n",
    "\n",
    "# pandas somehow defaulted some columns as object type, I am casting them to float. \n",
    "obj_df = df.select_dtypes(include=['object']).copy()\n",
    "fs = ['tf_AO','tf_SAF','tf_SAR','tf_FAO','tf_AF','tf_FSAF','tf_FSAR','ti_AO','ti_SAF','ti_SAR','ti_FAO', 'ti_AF', 'ti_FSAF', 'ti_FSAR', 'ti_RBI', 'ti_LEN', 'ti_HRUN', 'ti_RBI', 'ti_FWDB',\n",
    "       'ti_REVB', 'ti_REFB', 'ti_VARB', 'ti_SSSB', 'ti_SSEN', 'ti_SSEP',\n",
    "       'ti_STB', 'ti_STBP', 'ti_PB', 'ti_PBP', 'ti_MLLD', 'ti_OPOS' ]\n",
    "\n",
    "for f in fs:\n",
    "    s = obj_df[f]\n",
    "    df[f] = pd.to_numeric(s, downcast='float')\n",
    "\n",
    "df = df.drop(['Q_BD', 'ti_FR', 'T_BI', 'T_BK', 'T_BLT', 'T_BVT', 'Q_BI', 'Q_BK', 'Q_BLT', 'Q_BVT', 'REF', 'ALT', 'ti_OREF', 'ti_OALT', 'ti_OMAPALT'], axis=1)\n",
    "\n",
    "df2 = pd.get_dummies(df[\"ti_TYPE\"])\n",
    "\n",
    "df = pd.concat([df, df2], axis=1)\n",
    "\n",
    "df.to_csv(\"testing.csv\", sep='\\t')"
   ]
  },
  {
   "cell_type": "code",
   "execution_count": 60,
   "metadata": {
    "collapsed": false
   },
   "outputs": [],
   "source": [
    ""
   ]
  },
  {
   "cell_type": "code",
   "execution_count": null,
   "metadata": {
    "collapsed": false
   },
   "outputs": [],
   "source": [
    ""
   ]
  },
  {
   "cell_type": "code",
   "execution_count": 63,
   "metadata": {
    "collapsed": false
   },
   "outputs": [
    {
     "data": {
      "text/plain": [
       "[('QUAL', 'tf_AO'),\n ('QUAL', 'tf_FAO'),\n ('QUAL', 'tf_FSAF'),\n ('QUAL', 'tf_FSAR'),\n ('QUAL', 'ti_FAO'),\n ('QUAL', 'Q_QQ'),\n ('tf_GQ', 'tf_FRO'),\n ('tf_GQ', 'tf_FSRF'),\n ('tf_GQ', 'tf_FSRR'),\n ('tf_GQ', 'ti_FRO'),\n ('tf_AO', 'tf_FDP'),\n ('tf_AO', 'tf_FAO'),\n ('tf_AO', 'tf_FSAF'),\n ('tf_AO', 'tf_FSAR'),\n ('tf_AO', 'ti_FDP'),\n ('tf_AO', 'ti_FAO'),\n ('tf_AO', 'Q_QQ'),\n ('tf_FDP', 'tf_FAO'),\n ('tf_FDP', 'ti_FDP'),\n ('tf_FDP', 'ti_FAO'),\n ('tf_FRO', 'tf_FSRF'),\n ('tf_FRO', 'tf_FSRR'),\n ('tf_FRO', 'ti_RO'),\n ('tf_FRO', 'ti_FRO'),\n ('tf_FAO', 'tf_FSAF'),\n ('tf_FAO', 'tf_FSAR'),\n ('tf_FAO', 'ti_FDP'),\n ('tf_FAO', 'ti_FAO'),\n ('tf_FAO', 'Q_QQ'),\n ('tf_FSRF', 'tf_FSRR'),\n ('tf_FSRF', 'ti_RO'),\n ('tf_FSRF', 'ti_FRO'),\n ('tf_FSRR', 'ti_RO'),\n ('tf_FSRR', 'ti_FRO'),\n ('tf_FSAF', 'ti_FAO'),\n ('tf_FSAF', 'Q_QQ'),\n ('tf_FSAR', 'ti_FAO'),\n ('tf_FSAR', 'Q_QQ'),\n ('ti_RO', 'ti_FRO'),\n ('ti_FDP', 'ti_FAO'),\n ('ti_FAO', 'Q_QQ')]"
      ]
     },
     "execution_count": 63,
     "metadata": {},
     "output_type": "execute_result"
    }
   ],
   "source": [
    "# Look at the correlation matrix and figure out which fields are not important. \n",
    "# keep tf_GQ\n",
    "# drop 'tf_DP', 'tf_RO', 'tf_SRF', 'tf_SRR'\n",
    "\n",
    "df = df.drop(['tf_DP', 'ti_DP', 'tf_RO', 'tf_SRF', 'tf_SRR', 'ti_OPOS', 'tf_SAF','tf_SAR', 'ti_SAF', 'ti_SAR','ti_SRF','ti_SRR','ti_FSRR','ti_FSAF','ti_FSAR','ti_FSRF','ti_AF', 'ti_AO', 'tf_AF'], axis=1)\n",
    "\n",
    "\n",
    "\n",
    "\n",
    "corr_matrix = df.corr()\n",
    "\n",
    "high_corr_var=np.where(corr_matrix>0.8)\n",
    "high_corr_var=[(corr_matrix.index[x],corr_matrix.columns[y]) for x,y in zip(*high_corr_var) if x!=y and x<y] \n",
    "\n",
    "high_corr_var\n",
    "\n",
    "\n",
    "\n",
    "\n",
    "\n",
    "\n",
    "\n",
    "# df[[\"tf_GQ\",'tf_FSRF']]"
   ]
  },
  {
   "cell_type": "code",
   "execution_count": 64,
   "metadata": {},
   "outputs": [
    {
     "data": {
      "image/png": "[encoded data removed]",
      "text/plain": [
       "<matplotlib.figure.Figure at 0x1278ec5c0>"
      ]
     },
     "metadata": {},
     "output_type": "display_data"
    }
   ],
   "source": [
    "corr = df.corr()\n",
    "fig, ax = plt.subplots(figsize=(10,10))    \n",
    "\n",
    "\n",
    "\n",
    "sns.heatmap(corr, \n",
    "            xticklabels=corr.columns.values,\n",
    "            yticklabels=corr.columns.values, ax=ax)\n",
    "\n",
    "\n",
    "\n",
    "fig = ax.get_figure()\n",
    "fig.savefig('heatmap.png')"
   ]
  },
  {
   "cell_type": "code",
   "execution_count": 66,
   "metadata": {},
   "outputs": [
    {
     "name": "stdout",
     "output_type": "stream",
     "text": [
      "              CHROM           POS          QUAL         tf_GQ         tf_AO  \\\ncount  50695.000000  5.069500e+04  50695.000000  50695.000000  50695.000000   \nmean       9.966229  7.380541e+07    544.722543    142.641937     77.842690   \nstd        6.374044  5.800311e+07    627.913496    145.153130     68.162582   \nmin        1.000000  6.115000e+03     10.000000      3.000000      2.000000   \n25%        4.000000  2.922152e+07    146.052500     38.000000     31.000000   \n50%       10.000000  5.715714e+07    308.305000     89.000000     59.000000   \n75%       16.000000  1.115425e+08    677.134000    202.000000    103.000000   \nmax       22.000000  2.491495e+08   3854.940000    842.000000   1101.000000   \n\n             tf_FDP        tf_FRO        tf_FAO       tf_FSRF       tf_FSRR  \\\ncount  50638.000000  50638.000000  50638.000000  50638.000000  50638.000000   \nmean     115.836684     37.897034     77.907677     18.927604     18.969430   \nstd       83.037383     46.279021     65.072060     24.333464     24.355678   \nmin        5.000000      0.000000      2.000000      0.000000      0.000000   \n25%       54.000000      0.000000     32.000000      0.000000      0.000000   \n50%       97.000000     23.000000     60.000000     10.000000     10.000000   \n75%      158.000000     60.000000    104.000000     30.000000     30.000000   \nmax      400.000000    345.000000    400.000000    281.000000    243.000000   \n\n            tf_FSAF       tf_FSAR         ti_RO        ti_FDP        ti_FRO  \\\ncount  50638.000000  50638.000000  50695.000000  50638.000000  50638.000000   \nmean      38.920078     38.987598     38.160252    115.836684     37.897034   \nstd       34.942467     34.753986     51.542246     83.037383     46.279021   \nmin        0.000000      0.000000      0.000000      5.000000      0.000000   \n25%       14.000000     14.000000      0.000000     54.000000      0.000000   \n50%       29.000000     30.000000     22.000000     97.000000     23.000000   \n75%       53.000000     53.000000     60.000000    158.000000     60.000000   \nmax      376.000000    286.000000   2629.000000    400.000000    345.000000   \n\n             ti_FAO         ti_QD        ti_FXX        ti_LEN       ti_HRUN  \\\ncount  50638.000000  50638.000000  50638.000000  50695.000000  50638.000000   \nmean      77.907677     19.233577      0.005061      1.101371      1.777262   \nstd       65.072060     14.074385      0.020774      1.065830      1.336170   \nmin        2.000000      0.155224      0.000000      1.000000      0.000000   \n25%       32.000000      7.869272      0.000000      1.000000      1.000000   \n50%       60.000000     10.655000      0.000000      1.000000      1.000000   \n75%      104.000000     37.631250      0.000000      1.000000      2.000000   \nmax      400.000000     40.015000      0.491129     56.000000     15.000000   \n\n             ti_RBI       ti_FWDB       ti_REVB       ti_REFB       ti_VARB  \\\ncount  50638.000000  50638.000000  50638.000000  50638.000000  50638.000000   \nmean       0.042186      0.003297      0.003212     -0.009957      0.006088   \nstd        0.029843      0.036536      0.036253      0.028347      0.019871   \nmin        0.000036     -0.148712     -0.149447     -0.375906     -0.138838   \n25%        0.019238     -0.014752     -0.014505     -0.014769     -0.000119   \n50%        0.034774      0.001767      0.001776     -0.000419      0.000445   \n75%        0.057977      0.020941      0.020987      0.000000      0.010705   \nmax        0.149895      0.149695      0.149155      0.227424      0.394474   \n\n            ti_SSSB       ti_SSEN       ti_SSEP        ti_STB       ti_STBP  \\\ncount  50638.000000  50638.000000  50638.000000  50638.000000  50638.000000   \nmean       0.000257      0.000285      0.000289      0.546584      0.631222   \nstd        0.159522      0.010472      0.010492      0.084581      0.360653   \nmin       -0.902397      0.000000      0.000000      0.500000      0.000000   \n25%       -0.029194      0.000000      0.000000      0.500000      0.294000   \n50%        0.000000      0.000000      0.000000      0.516512      0.707500   \n75%        0.030049      0.000000      0.000000      0.556688      1.000000   \nmax        0.887741      0.489362      0.488889      0.999853      1.000000   \n\n              ti_PB        ti_PBP       ti_MLLD          Q_QQ  \\\ncount  50638.000000  50638.000000  50638.000000  50695.000000   \nmean       0.501086      0.995059    160.695740    544.722543   \nstd        0.018842      0.065782     96.602478    627.913496   \nmin        0.416667      0.000000     13.139100     10.000000   \n25%        0.500000      1.000000     69.967976    146.052500   \n50%        0.500000      1.000000    145.180496    308.305000   \n75%        0.500000      1.000000    235.330746    677.134000   \nmax        1.000000      1.000000   1265.650024   3854.940000   \n\n       mult_alt_allele        target           del           ins  \\\ncount          50695.0  50695.000000  50695.000000  50695.000000   \nmean               0.0      0.814439      0.017023      0.015800   \nstd                0.0      0.388756      0.129360      0.124704   \nmin                0.0      0.000000      0.000000      0.000000   \n25%                0.0      1.000000      0.000000      0.000000   \n50%                0.0      1.000000      0.000000      0.000000   \n75%                0.0      1.000000      0.000000      0.000000   \nmax                0.0      1.000000      1.000000      1.000000   \n\n                mnp           snp  \ncount  50695.000000  50695.000000  \nmean       0.006490      0.960686  \nstd        0.080298      0.194342  \nmin        0.000000      0.000000  \n25%        0.000000      1.000000  \n50%        0.000000      1.000000  \n75%        0.000000      1.000000  \nmax        1.000000      1.000000  \n"
     ]
    }
   ],
   "source": [
    ""
   ]
  },
  {
   "cell_type": "code",
   "execution_count": 70,
   "metadata": {
    "collapsed": false
   },
   "outputs": [],
   "source": [
    "t_df = df.select_dtypes(exclude=['object']).copy()\n",
    "t_df = t_df.dropna(how='any')"
   ]
  },
  {
   "cell_type": "code",
   "execution_count": 74,
   "metadata": {
    "collapsed": false
   },
   "outputs": [],
   "source": [
    "from sklearn.model_selection import KFold\n",
    "from sklearn.model_selection import cross_val_score\n",
    "from sklearn.linear_model import LogisticRegression\n",
    "from sklearn.naive_bayes import GaussianNB\n",
    "from sklearn.neighbors import KNeighborsClassifier\n",
    "from sklearn.tree import DecisionTreeClassifier\n",
    "from sklearn.svm import SVC"
   ]
  },
  {
   "cell_type": "code",
   "execution_count": 75,
   "metadata": {},
   "outputs": [],
   "source": [
    "models = []\n",
    "models.append((\"LR\",LogisticRegression()))\n",
    "models.append((\"NB\",GaussianNB()))\n",
    "models.append((\"KNN\",KNeighborsClassifier()))\n",
    "models.append((\"DT\",DecisionTreeClassifier()))\n",
    "models.append((\"SVM\",SVC()))"
   ]
  },
  {
   "cell_type": "code",
   "execution_count": 76,
   "metadata": {},
   "outputs": [],
   "source": [
    "from sklearn.model_selection import train_test_split\n",
    "test_df = t_df \n",
    "\n",
    "x = test_df.drop(['target', 'mult_alt_allele'], axis=1)\n",
    "y = test_df.target\n",
    "\n",
    "X_train, X_test, Y_train, Y_test = train_test_split(x, y, random_state=22, test_size=0.2)\n",
    "\n",
    "# X_test and Y_test are the holdout set in this case.  \n"
   ]
  },
  {
   "cell_type": "code",
   "execution_count": 77,
   "metadata": {},
   "outputs": [
    {
     "name": "stdout",
     "output_type": "stream",
     "text": [
      "LR 0.813947173537\nNB 0.813947173537\nKNN 0.850876326833\nDT 0.823154776598\nSVM 0.813947173537\n"
     ]
    }
   ],
   "source": [
    "def binary_classification(models, X_train, Y_train):\n",
    "    \n",
    "    results = []\n",
    "    names = []\n",
    "    \n",
    "    for name, model in models:\n",
    "        kfold = KFold(n_splits=10, random_state=22)\n",
    "        cv_result = cross_val_score(model, X_train, Y_train, cv=kfold, scoring=\"accuracy\")\n",
    "        names.append(name)\n",
    "        results.append(cv_result)\n",
    "        \n",
    "    for i in range(len(names)):\n",
    "        print(names[i], results[i].mean())\n",
    "    \n",
    "    return results, names\n",
    "\n",
    "        \n",
    "results, names = binary_classification(models, X_train, Y_train)\n",
    "# Commenting this for now. "
   ]
  },
  {
   "cell_type": "code",
   "execution_count": null,
   "metadata": {},
   "outputs": [],
   "source": [
    "def visualize_results(results, names):\n",
    "    ax = sns.boxplot(data=results)\n",
    "    ax.set_xticklabels(names)\n",
    "\n",
    "visualize_results(results, names)\n",
    "\n"
   ]
  },
  {
   "cell_type": "code",
   "execution_count": 104,
   "metadata": {
    "collapsed": false
   },
   "outputs": [
    {
     "name": "stdout",
     "output_type": "stream",
     "text": [
      "0.862954186414\n"
     ]
    }
   ],
   "source": [
    ""
   ]
  },
  {
   "cell_type": "code",
   "execution_count": 101,
   "metadata": {},
   "outputs": [],
   "source": [
    "# https://kevinzakka.github.io/2016/07/13/k-nearest-neighbor/\n",
    "# This has lots of information for KNN \n",
    "# So far we came to conclusion that KNN worked the best. \n",
    "\n",
    "\n",
    "# creating odd list of K for KNN\n",
    "myList = list(range(1,50))\n",
    "\n",
    "# subsetting just the odd ones\n",
    "# neighbors = filter(lambda x: x % 2 != 0, myList)\n",
    "neighbors = [num for num in myList if num % 2 == 1]\n",
    "    \n",
    "\n",
    "\n",
    "cv_scores = []\n",
    "for k in neighbors:\n",
    "    knn=KNeighborsClassifier(n_neighbors=k)\n",
    "\n",
    "    kfold = KFold(n_splits=10, random_state=22)\n",
    "    scores = cross_val_score(knn, X_train, Y_train, cv=kfold, scoring=\"accuracy\")\n",
    "    cv_scores.append(scores.mean())"
   ]
  },
  {
   "cell_type": "code",
   "execution_count": 103,
   "metadata": {
    "collapsed": false
   },
   "outputs": [
    {
     "name": "stdout",
     "output_type": "stream",
     "text": [
      "[0.85954085411009618, 0.85413478153542344, 0.85087632683288084, 0.84887682053813873, 0.84862996790915823, 0.84576647741298439, 0.84263144902493214, 0.83976795852875841, 0.83757097013083182, 0.83766971118242406, 0.83692915329548256, 0.83618859540854107, 0.83428783016539132, 0.83413971858800307, 0.83465810910886196, 0.83352258701555171, 0.83231300913354733, 0.83135028388052334, 0.83041224389039736, 0.83011602073562085, 0.82979511231794623, 0.82949888916316961, 0.82905455443100473, 0.82853616391014562, 0.828239940755369]\nThe optimal number of neighbors is: %d 1\n"
     ]
    },
    {
     "data": {
      "image/png": "[encoded data removed]",
      "text/plain": [
       "<matplotlib.figure.Figure at 0x123cb6a20>"
      ]
     },
     "metadata": {},
     "output_type": "display_data"
    }
   ],
   "source": [
    "# changing to misclassification error\n",
    "MSE = [float(1 - x) for x in cv_scores]\n",
    "\n",
    "# determining best k\n",
    "\n",
    "optimal_k = neighbors[MSE.index(min(MSE))]\n",
    "\n",
    "print(\"The optimal number of neighbors is: %d\", optimal_k)\n",
    "\n",
    "# plot misclassification error vs k\n",
    "plt.plot(neighbors, MSE)\n",
    "plt.xlabel('Number of Neighbors K')\n",
    "plt.ylabel('Misclassification Error')\n",
    "plt.show()\n",
    "\n",
    "# Looks like knn=1 gives the highest accuracy. \n"
   ]
  },
  {
   "cell_type": "code",
   "execution_count": 107,
   "metadata": {},
   "outputs": [
    {
     "name": "stdout",
     "output_type": "stream",
     "text": [
      "[1 1 1 ..., 1 1 1]\n0.862954186414\n"
     ]
    }
   ],
   "source": [
    "from sklearn.metrics import accuracy_score\n",
    "\n",
    "\n",
    "knn = KNeighborsClassifier(n_neighbors=1)\n",
    "\n",
    "knn.fit(X_train, Y_train)\n",
    "pred = knn.predict(X_test)\n",
    "\n",
    "print(accuracy_score(Y_test, pred))\n",
    "\n"
   ]
  },
  {
   "cell_type": "code",
   "execution_count": 108,
   "metadata": {},
   "outputs": [
    {
     "name": "stdout",
     "output_type": "stream",
     "text": [
      "             precision    recall  f1-score   support\n\n          0       0.62      0.65      0.63      1835\n          1       0.92      0.91      0.92      8293\n\navg / total       0.87      0.86      0.86     10128\n\n"
     ]
    }
   ],
   "source": [
    "from sklearn.metrics import classification_report\n",
    "\n",
    "\n",
    "print(classification_report(Y_test, pred))"
   ]
  },
  {
   "cell_type": "code",
   "execution_count": 105,
   "metadata": {},
   "outputs": [],
   "source": [
    ""
   ]
  },
  {
   "cell_type": "code",
   "execution_count": 105,
   "metadata": {},
   "outputs": [],
   "source": [
    ""
   ]
  },
  {
   "cell_type": "code",
   "execution_count": 105,
   "metadata": {},
   "outputs": [],
   "source": [
    ""
   ]
  },
  {
   "cell_type": "code",
   "execution_count": null,
   "metadata": {},
   "outputs": [],
   "source": [
    ""
   ]
  }
 ],
 "metadata": {
  "kernelspec": {
   "display_name": "Python 2",
   "language": "python",
   "name": "python2"
  },
  "language_info": {
   "codemirror_mode": {
    "name": "ipython",
    "version": 2.0
   },
   "file_extension": ".py",
   "mimetype": "text/x-python",
   "name": "python",
   "nbconvert_exporter": "python",
   "pygments_lexer": "ipython2",
   "version": "2.7.6"
  }
 },
 "nbformat": 4,
 "nbformat_minor": 0
}